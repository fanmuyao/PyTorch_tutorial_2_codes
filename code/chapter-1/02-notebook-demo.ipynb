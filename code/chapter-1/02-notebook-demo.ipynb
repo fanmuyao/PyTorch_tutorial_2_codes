{
 "cells": [
  {
   "cell_type": "markdown",
   "metadata": {},
   "source": [
    "# 这里是Markdown单元格"
   ]
  },
  {
   "cell_type": "code",
   "execution_count": 1,
   "metadata": {
    "pycharm": {
     "is_executing": false
    }
   },
   "outputs": [
    {
     "name": "stdout",
     "output_type": "stream",
     "text": [
      "Hello World, Hello PyTorch 2.6.0+cu124\n",
      "\n",
      "CUDA is available:True, version is 12.4\n",
      "\n",
      "device_name: NVIDIA RTX 2000 Ada Generation Laptop GPU\n"
     ]
    }
   ],
   "source": [
    "import torch\n",
    "\n",
    "print(\"Hello World, Hello PyTorch {}\".format(torch.__version__))\n",
    "\n",
    "print(\"\\nCUDA is available:{}, version is {}\".format(torch.cuda.is_available(), torch.version.cuda))\n",
    "\n",
    "print(\"\\ndevice_name: {}\".format(torch.cuda.get_device_name(0)))"
   ]
  },
  {
   "cell_type": "markdown",
   "metadata": {},
   "source": [
    "# 两个神奇操作\n",
    "! 以及 %% 使用"
   ]
  },
  {
   "cell_type": "code",
   "execution_count": 2,
   "metadata": {
    "scrolled": true
   },
   "outputs": [
    {
     "name": "stdout",
     "output_type": "stream",
     "text": [
      "Thu May 22 15:42:54 2025       \n",
      "+-----------------------------------------------------------------------------------------+\n",
      "| NVIDIA-SMI 551.61                 Driver Version: 551.61         CUDA Version: 12.4     |\n",
      "|-----------------------------------------+------------------------+----------------------+\n",
      "| GPU  Name                     TCC/WDDM  | Bus-Id          Disp.A | Volatile Uncorr. ECC |\n",
      "| Fan  Temp   Perf          Pwr:Usage/Cap |           Memory-Usage | GPU-Util  Compute M. |\n",
      "|                                         |                        |               MIG M. |\n",
      "|=========================================+========================+======================|\n",
      "|   0  NVIDIA RTX 2000 Ada Gene...  WDDM  |   00000000:01:00.0 Off |                  N/A |\n",
      "| N/A   40C    P4             10W /   30W |       0MiB /   8188MiB |      0%      Default |\n",
      "|                                         |                        |                  N/A |\n",
      "+-----------------------------------------+------------------------+----------------------+\n",
      "                                                                                         \n",
      "+-----------------------------------------------------------------------------------------+\n",
      "| Processes:                                                                              |\n",
      "|  GPU   GI   CI        PID   Type   Process name                              GPU Memory |\n",
      "|        ID   ID                                                               Usage      |\n",
      "|=========================================================================================|\n",
      "|  No running processes found                                                             |\n",
      "+-----------------------------------------------------------------------------------------+\n",
      "03:42 PM\n",
      " Volume in drive C is Windows\n",
      " Volume Serial Number is F03E-E6D6\n",
      "\n",
      " Directory of c:\\Users\\ot1h8w\\OneDrive - Aptiv\\Documents\\muyaoWorkSpace\\codes from git\\PyTorch_tutorial_2_codes\\code\\chapter-1\n",
      "\n",
      "05/22/2025  03:13 PM    <DIR>          .\n",
      "05/22/2025  03:13 PM    <DIR>          ..\n",
      "05/22/2025  03:12 PM               433 01-hello-pytorch.py\n",
      "05/22/2025  03:12 PM             5,178 02-notebook-demo.ipynb\n",
      "05/22/2025  03:12 PM            12,111 03-torch-compile.ipynb\n",
      "05/22/2025  03:12 PM             6,428 03-torch-compile-performance.py\n",
      "               4 File(s)         24,150 bytes\n",
      "               2 Dir(s)  250,030,374,912 bytes free\n"
     ]
    }
   ],
   "source": [
    "!nvidia-smi\n",
    "!time /t\n",
    "!dir"
   ]
  },
  {
   "cell_type": "code",
   "execution_count": 3,
   "metadata": {},
   "outputs": [
    {
     "name": "stdout",
     "output_type": "stream",
     "text": [
      "844 ns ± 21.7 ns per loop (mean ± std. dev. of 7 runs, 1,000,000 loops each)\n"
     ]
    }
   ],
   "source": [
    "%%timeit\n",
    "a = []\n",
    "for i in range(10):\n",
    "    a.append(i)"
   ]
  },
  {
   "cell_type": "code",
   "execution_count": 4,
   "metadata": {},
   "outputs": [
    {
     "name": "stdout",
     "output_type": "stream",
     "text": [
      "CPU times: total: 125 ms\n",
      "Wall time: 118 ms\n"
     ]
    }
   ],
   "source": [
    "%%time\n",
    "a = []\n",
    "for i in range(1000000):\n",
    "    a.append(i)"
   ]
  }
 ],
 "metadata": {
  "kernelspec": {
   "display_name": "qwen_env",
   "language": "python",
   "name": "python3"
  },
  "language_info": {
   "codemirror_mode": {
    "name": "ipython",
    "version": 3
   },
   "file_extension": ".py",
   "mimetype": "text/x-python",
   "name": "python",
   "nbconvert_exporter": "python",
   "pygments_lexer": "ipython3",
   "version": "3.10.16"
  },
  "pycharm": {
   "stem_cell": {
    "cell_type": "raw",
    "metadata": {
     "collapsed": false
    },
    "source": []
   }
  }
 },
 "nbformat": 4,
 "nbformat_minor": 4
}
